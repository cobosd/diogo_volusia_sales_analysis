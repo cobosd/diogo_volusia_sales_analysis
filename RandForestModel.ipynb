{
 "cells": [
  {
   "cell_type": "code",
   "execution_count": 1,
   "metadata": {},
   "outputs": [
    {
     "data": {
      "text/html": [
       "<div>\n",
       "<style scoped>\n",
       "    .dataframe tbody tr th:only-of-type {\n",
       "        vertical-align: middle;\n",
       "    }\n",
       "\n",
       "    .dataframe tbody tr th {\n",
       "        vertical-align: top;\n",
       "    }\n",
       "\n",
       "    .dataframe thead th {\n",
       "        text-align: right;\n",
       "    }\n",
       "</style>\n",
       "<table border=\"1\" class=\"dataframe\">\n",
       "  <thead>\n",
       "    <tr style=\"text-align: right;\">\n",
       "      <th></th>\n",
       "      <th>id</th>\n",
       "      <th>objectid</th>\n",
       "      <th>statefp</th>\n",
       "      <th>countyfp</th>\n",
       "      <th>tractce</th>\n",
       "      <th>blkgrpce</th>\n",
       "      <th>geoid</th>\n",
       "      <th>namelsad</th>\n",
       "      <th>mtfcc</th>\n",
       "      <th>funcstat</th>\n",
       "      <th>...</th>\n",
       "      <th>avg_sfla</th>\n",
       "      <th>avg_aprtot</th>\n",
       "      <th>avg_price</th>\n",
       "      <th>avg_rmbed</th>\n",
       "      <th>nbr_parcels</th>\n",
       "      <th>nbr_housing</th>\n",
       "      <th>pop</th>\n",
       "      <th>crime_rate</th>\n",
       "      <th>avg_hh_income</th>\n",
       "      <th>lstat</th>\n",
       "    </tr>\n",
       "  </thead>\n",
       "  <tbody>\n",
       "    <tr>\n",
       "      <th>0</th>\n",
       "      <td>32</td>\n",
       "      <td>261</td>\n",
       "      <td>12</td>\n",
       "      <td>127</td>\n",
       "      <td>83203</td>\n",
       "      <td>2</td>\n",
       "      <td>1.210000e+11</td>\n",
       "      <td>Block Group 2</td>\n",
       "      <td>G5030</td>\n",
       "      <td>S</td>\n",
       "      <td>...</td>\n",
       "      <td>2663.3</td>\n",
       "      <td>308041.5</td>\n",
       "      <td>356547</td>\n",
       "      <td>3.6</td>\n",
       "      <td>301</td>\n",
       "      <td>558</td>\n",
       "      <td>1428</td>\n",
       "      <td>LOW</td>\n",
       "      <td>93688.0</td>\n",
       "      <td>0.130047</td>\n",
       "    </tr>\n",
       "    <tr>\n",
       "      <th>1</th>\n",
       "      <td>1806</td>\n",
       "      <td>508</td>\n",
       "      <td>12</td>\n",
       "      <td>127</td>\n",
       "      <td>82100</td>\n",
       "      <td>1</td>\n",
       "      <td>1.210000e+11</td>\n",
       "      <td>Block Group 1</td>\n",
       "      <td>G5030</td>\n",
       "      <td>S</td>\n",
       "      <td>...</td>\n",
       "      <td>1114.6</td>\n",
       "      <td>58531.3</td>\n",
       "      <td>66471</td>\n",
       "      <td>2.8</td>\n",
       "      <td>21</td>\n",
       "      <td>131</td>\n",
       "      <td>263</td>\n",
       "      <td>HIGH</td>\n",
       "      <td>21563.0</td>\n",
       "      <td>0.878620</td>\n",
       "    </tr>\n",
       "    <tr>\n",
       "      <th>2</th>\n",
       "      <td>5144</td>\n",
       "      <td>4440</td>\n",
       "      <td>12</td>\n",
       "      <td>127</td>\n",
       "      <td>82301</td>\n",
       "      <td>3</td>\n",
       "      <td>1.210000e+11</td>\n",
       "      <td>Block Group 3</td>\n",
       "      <td>G5030</td>\n",
       "      <td>S</td>\n",
       "      <td>...</td>\n",
       "      <td>1158.8</td>\n",
       "      <td>99391.1</td>\n",
       "      <td>118591</td>\n",
       "      <td>2.1</td>\n",
       "      <td>35</td>\n",
       "      <td>12</td>\n",
       "      <td>165</td>\n",
       "      <td>HIGH</td>\n",
       "      <td>25083.0</td>\n",
       "      <td>0.842086</td>\n",
       "    </tr>\n",
       "    <tr>\n",
       "      <th>3</th>\n",
       "      <td>697</td>\n",
       "      <td>4542</td>\n",
       "      <td>12</td>\n",
       "      <td>127</td>\n",
       "      <td>91026</td>\n",
       "      <td>2</td>\n",
       "      <td>1.210000e+11</td>\n",
       "      <td>Block Group 2</td>\n",
       "      <td>G5030</td>\n",
       "      <td>S</td>\n",
       "      <td>...</td>\n",
       "      <td>1672.9</td>\n",
       "      <td>176236.8</td>\n",
       "      <td>196714</td>\n",
       "      <td>3.2</td>\n",
       "      <td>335</td>\n",
       "      <td>335</td>\n",
       "      <td>902</td>\n",
       "      <td>LOW</td>\n",
       "      <td>57275.0</td>\n",
       "      <td>0.507971</td>\n",
       "    </tr>\n",
       "    <tr>\n",
       "      <th>4</th>\n",
       "      <td>5148</td>\n",
       "      <td>4443</td>\n",
       "      <td>12</td>\n",
       "      <td>127</td>\n",
       "      <td>90203</td>\n",
       "      <td>3</td>\n",
       "      <td>1.210000e+11</td>\n",
       "      <td>Block Group 3</td>\n",
       "      <td>G5030</td>\n",
       "      <td>S</td>\n",
       "      <td>...</td>\n",
       "      <td>1356.9</td>\n",
       "      <td>139595.3</td>\n",
       "      <td>164451</td>\n",
       "      <td>2.9</td>\n",
       "      <td>57</td>\n",
       "      <td>201</td>\n",
       "      <td>661</td>\n",
       "      <td>LOW</td>\n",
       "      <td>40625.0</td>\n",
       "      <td>0.680778</td>\n",
       "    </tr>\n",
       "    <tr>\n",
       "      <th>...</th>\n",
       "      <td>...</td>\n",
       "      <td>...</td>\n",
       "      <td>...</td>\n",
       "      <td>...</td>\n",
       "      <td>...</td>\n",
       "      <td>...</td>\n",
       "      <td>...</td>\n",
       "      <td>...</td>\n",
       "      <td>...</td>\n",
       "      <td>...</td>\n",
       "      <td>...</td>\n",
       "      <td>...</td>\n",
       "      <td>...</td>\n",
       "      <td>...</td>\n",
       "      <td>...</td>\n",
       "      <td>...</td>\n",
       "      <td>...</td>\n",
       "      <td>...</td>\n",
       "      <td>...</td>\n",
       "      <td>...</td>\n",
       "      <td>...</td>\n",
       "    </tr>\n",
       "    <tr>\n",
       "      <th>284</th>\n",
       "      <td>5297</td>\n",
       "      <td>4579</td>\n",
       "      <td>12</td>\n",
       "      <td>127</td>\n",
       "      <td>82703</td>\n",
       "      <td>2</td>\n",
       "      <td>1.210000e+11</td>\n",
       "      <td>Block Group 2</td>\n",
       "      <td>G5030</td>\n",
       "      <td>S</td>\n",
       "      <td>...</td>\n",
       "      <td>1556.9</td>\n",
       "      <td>466339.8</td>\n",
       "      <td>523239</td>\n",
       "      <td>2.6</td>\n",
       "      <td>149</td>\n",
       "      <td>347</td>\n",
       "      <td>431</td>\n",
       "      <td>MED</td>\n",
       "      <td>67969.0</td>\n",
       "      <td>0.396980</td>\n",
       "    </tr>\n",
       "    <tr>\n",
       "      <th>285</th>\n",
       "      <td>4692</td>\n",
       "      <td>3949</td>\n",
       "      <td>12</td>\n",
       "      <td>127</td>\n",
       "      <td>80500</td>\n",
       "      <td>2</td>\n",
       "      <td>1.210000e+11</td>\n",
       "      <td>Block Group 2</td>\n",
       "      <td>G5030</td>\n",
       "      <td>S</td>\n",
       "      <td>...</td>\n",
       "      <td>1421.9</td>\n",
       "      <td>203062.9</td>\n",
       "      <td>236990</td>\n",
       "      <td>2.5</td>\n",
       "      <td>201</td>\n",
       "      <td>802</td>\n",
       "      <td>1092</td>\n",
       "      <td>MED</td>\n",
       "      <td>35329.0</td>\n",
       "      <td>0.735745</td>\n",
       "    </tr>\n",
       "    <tr>\n",
       "      <th>286</th>\n",
       "      <td>10026</td>\n",
       "      <td>9886</td>\n",
       "      <td>12</td>\n",
       "      <td>127</td>\n",
       "      <td>90400</td>\n",
       "      <td>5</td>\n",
       "      <td>1.210000e+11</td>\n",
       "      <td>Block Group 5</td>\n",
       "      <td>G5030</td>\n",
       "      <td>S</td>\n",
       "      <td>...</td>\n",
       "      <td>1200.2</td>\n",
       "      <td>137053.9</td>\n",
       "      <td>154601</td>\n",
       "      <td>2.7</td>\n",
       "      <td>83</td>\n",
       "      <td>143</td>\n",
       "      <td>292</td>\n",
       "      <td>MED</td>\n",
       "      <td>49667.0</td>\n",
       "      <td>0.586933</td>\n",
       "    </tr>\n",
       "    <tr>\n",
       "      <th>287</th>\n",
       "      <td>1787</td>\n",
       "      <td>487</td>\n",
       "      <td>12</td>\n",
       "      <td>127</td>\n",
       "      <td>82507</td>\n",
       "      <td>1</td>\n",
       "      <td>1.210000e+11</td>\n",
       "      <td>Block Group 1</td>\n",
       "      <td>G5030</td>\n",
       "      <td>S</td>\n",
       "      <td>...</td>\n",
       "      <td>1773.4</td>\n",
       "      <td>203532.7</td>\n",
       "      <td>236808</td>\n",
       "      <td>2.9</td>\n",
       "      <td>153</td>\n",
       "      <td>164</td>\n",
       "      <td>341</td>\n",
       "      <td>HIGH</td>\n",
       "      <td>44815.0</td>\n",
       "      <td>0.637291</td>\n",
       "    </tr>\n",
       "    <tr>\n",
       "      <th>288</th>\n",
       "      <td>9769</td>\n",
       "      <td>9584</td>\n",
       "      <td>12</td>\n",
       "      <td>127</td>\n",
       "      <td>90400</td>\n",
       "      <td>4</td>\n",
       "      <td>1.210000e+11</td>\n",
       "      <td>Block Group 4</td>\n",
       "      <td>G5030</td>\n",
       "      <td>S</td>\n",
       "      <td>...</td>\n",
       "      <td>1423.0</td>\n",
       "      <td>171691.8</td>\n",
       "      <td>188826</td>\n",
       "      <td>2.8</td>\n",
       "      <td>74</td>\n",
       "      <td>134</td>\n",
       "      <td>239</td>\n",
       "      <td>MED</td>\n",
       "      <td>58482.0</td>\n",
       "      <td>0.495444</td>\n",
       "    </tr>\n",
       "  </tbody>\n",
       "</table>\n",
       "<p>289 rows × 29 columns</p>\n",
       "</div>"
      ],
      "text/plain": [
       "        id  objectid  statefp  countyfp  tractce  blkgrpce         geoid  \\\n",
       "0       32       261       12       127    83203         2  1.210000e+11   \n",
       "1     1806       508       12       127    82100         1  1.210000e+11   \n",
       "2     5144      4440       12       127    82301         3  1.210000e+11   \n",
       "3      697      4542       12       127    91026         2  1.210000e+11   \n",
       "4     5148      4443       12       127    90203         3  1.210000e+11   \n",
       "..     ...       ...      ...       ...      ...       ...           ...   \n",
       "284   5297      4579       12       127    82703         2  1.210000e+11   \n",
       "285   4692      3949       12       127    80500         2  1.210000e+11   \n",
       "286  10026      9886       12       127    90400         5  1.210000e+11   \n",
       "287   1787       487       12       127    82507         1  1.210000e+11   \n",
       "288   9769      9584       12       127    90400         4  1.210000e+11   \n",
       "\n",
       "          namelsad  mtfcc funcstat  ...  avg_sfla  avg_aprtot  avg_price  \\\n",
       "0    Block Group 2  G5030        S  ...    2663.3    308041.5     356547   \n",
       "1    Block Group 1  G5030        S  ...    1114.6     58531.3      66471   \n",
       "2    Block Group 3  G5030        S  ...    1158.8     99391.1     118591   \n",
       "3    Block Group 2  G5030        S  ...    1672.9    176236.8     196714   \n",
       "4    Block Group 3  G5030        S  ...    1356.9    139595.3     164451   \n",
       "..             ...    ...      ...  ...       ...         ...        ...   \n",
       "284  Block Group 2  G5030        S  ...    1556.9    466339.8     523239   \n",
       "285  Block Group 2  G5030        S  ...    1421.9    203062.9     236990   \n",
       "286  Block Group 5  G5030        S  ...    1200.2    137053.9     154601   \n",
       "287  Block Group 1  G5030        S  ...    1773.4    203532.7     236808   \n",
       "288  Block Group 4  G5030        S  ...    1423.0    171691.8     188826   \n",
       "\n",
       "     avg_rmbed  nbr_parcels  nbr_housing   pop crime_rate  avg_hh_income  \\\n",
       "0          3.6          301          558  1428        LOW        93688.0   \n",
       "1          2.8           21          131   263       HIGH        21563.0   \n",
       "2          2.1           35           12   165       HIGH        25083.0   \n",
       "3          3.2          335          335   902        LOW        57275.0   \n",
       "4          2.9           57          201   661        LOW        40625.0   \n",
       "..         ...          ...          ...   ...        ...            ...   \n",
       "284        2.6          149          347   431        MED        67969.0   \n",
       "285        2.5          201          802  1092        MED        35329.0   \n",
       "286        2.7           83          143   292        MED        49667.0   \n",
       "287        2.9          153          164   341       HIGH        44815.0   \n",
       "288        2.8           74          134   239        MED        58482.0   \n",
       "\n",
       "        lstat  \n",
       "0    0.130047  \n",
       "1    0.878620  \n",
       "2    0.842086  \n",
       "3    0.507971  \n",
       "4    0.680778  \n",
       "..        ...  \n",
       "284  0.396980  \n",
       "285  0.735745  \n",
       "286  0.586933  \n",
       "287  0.637291  \n",
       "288  0.495444  \n",
       "\n",
       "[289 rows x 29 columns]"
      ]
     },
     "execution_count": 1,
     "metadata": {},
     "output_type": "execute_result"
    }
   ],
   "source": [
    "import pandas as pd\n",
    "import matplotlib.pyplot as plt\n",
    "import numpy as np\n",
    "import collections\n",
    "\n",
    "df = pd.read_csv('volusia_dataframe.csv')\n",
    "df\n"
   ]
  },
  {
   "cell_type": "code",
   "execution_count": 2,
   "metadata": {},
   "outputs": [
    {
     "name": "stderr",
     "output_type": "stream",
     "text": [
      "C:\\Users\\dnaza\\ANACONDA\\lib\\site-packages\\pandas\\core\\indexing.py:1765: SettingWithCopyWarning: \n",
      "A value is trying to be set on a copy of a slice from a DataFrame.\n",
      "Try using .loc[row_indexer,col_indexer] = value instead\n",
      "\n",
      "See the caveats in the documentation: https://pandas.pydata.org/pandas-docs/stable/user_guide/indexing.html#returning-a-view-versus-a-copy\n",
      "  isetter(loc, value)\n",
      "C:\\Users\\dnaza\\ANACONDA\\lib\\site-packages\\pandas\\core\\indexing.py:1765: SettingWithCopyWarning: \n",
      "A value is trying to be set on a copy of a slice from a DataFrame.\n",
      "Try using .loc[row_indexer,col_indexer] = value instead\n",
      "\n",
      "See the caveats in the documentation: https://pandas.pydata.org/pandas-docs/stable/user_guide/indexing.html#returning-a-view-versus-a-copy\n",
      "  isetter(loc, value)\n"
     ]
    }
   ],
   "source": [
    "df = df[df.nbr_crimes != 0] #Remove instances with zero crimes since they are very good quality data\n",
    "df.loc[df['nbr_crimes'] < 300, 'crime_rate'] = 'HIGH' \n",
    "df.loc[df['nbr_crimes'] < 19, 'crime_rate'] = 'LOW'"
   ]
  },
  {
   "cell_type": "code",
   "execution_count": 3,
   "metadata": {},
   "outputs": [
    {
     "data": {
      "text/plain": [
       "Counter({'HIGH': 103, 'LOW': 98})"
      ]
     },
     "execution_count": 3,
     "metadata": {},
     "output_type": "execute_result"
    }
   ],
   "source": [
    "collections.Counter(df.crime_rate)"
   ]
  },
  {
   "cell_type": "markdown",
   "metadata": {},
   "source": [
    "# RANDOM FOREST MODEL"
   ]
  },
  {
   "cell_type": "code",
   "execution_count": 4,
   "metadata": {},
   "outputs": [],
   "source": [
    "from sklearn.preprocessing import StandardScaler\n",
    "from sklearn.linear_model import LinearRegression\n",
    "from sklearn.ensemble import RandomForestClassifier\n",
    "from sklearn.pipeline import make_pipeline\n",
    "from sklearn.model_selection import train_test_split\n",
    "from sklearn.metrics import recall_score, accuracy_score, confusion_matrix, roc_auc_score\n",
    "from sklearn.metrics import precision_score, plot_precision_recall_curve, classification_report, roc_curve, cohen_kappa_score\n",
    "from sklearn.model_selection import GridSearchCV\n",
    "from sklearn import preprocessing\n"
   ]
  },
  {
   "cell_type": "code",
   "execution_count": 5,
   "metadata": {},
   "outputs": [],
   "source": [
    "df = df.iloc[:,18:].dropna()\n",
    "y = df['crime_rate']\n",
    "df = df.drop(['crime_rate', 'nbr_parcels'], axis =1 )\n",
    "df['CRIME_RATE'] = y #Add crime_rate column to the end (right) of the dataset"
   ]
  },
  {
   "cell_type": "code",
   "execution_count": 6,
   "metadata": {},
   "outputs": [],
   "source": [
    "#x =  preprocessing.normalize(df.iloc[:,2:-1])\n",
    "x = df.iloc[:,1:-2]"
   ]
  },
  {
   "cell_type": "code",
   "execution_count": 7,
   "metadata": {},
   "outputs": [],
   "source": [
    "x_train, x_test, y_train, y_test = train_test_split(x, y, test_size = 0.1)"
   ]
  },
  {
   "cell_type": "code",
   "execution_count": 8,
   "metadata": {},
   "outputs": [],
   "source": [
    "param_grid = {\n",
    "    'max_depth': [80, 95, 110],\n",
    "    'max_features': [1, 2],\n",
    "    'min_samples_leaf': [3, 4, 5],\n",
    "    'min_samples_split': [5, 7, 9],\n",
    "    'n_estimators': [30, 50, 60]\n",
    "}"
   ]
  },
  {
   "cell_type": "code",
   "execution_count": 9,
   "metadata": {},
   "outputs": [],
   "source": [
    "scores = ['recall']"
   ]
  },
  {
   "cell_type": "code",
   "execution_count": 10,
   "metadata": {},
   "outputs": [
    {
     "name": "stdout",
     "output_type": "stream",
     "text": [
      "# Tuning hyper-parameters for recall\n",
      "\n",
      "Best parameters set found on development set:\n",
      "\n",
      "{'max_depth': 110, 'max_features': 2, 'min_samples_leaf': 5, 'min_samples_split': 7, 'n_estimators': 60}\n",
      "\n",
      "Grid scores on development set:\n",
      "\n",
      "\n",
      "Detailed classification report:\n",
      "\n",
      "The model is trained on the full development set.\n",
      "The scores are computed on the full evaluation set.\n",
      "\n",
      "              precision    recall  f1-score   support\n",
      "\n",
      "        HIGH       0.55      0.60      0.57        10\n",
      "         LOW       0.60      0.55      0.57        11\n",
      "\n",
      "    accuracy                           0.57        21\n",
      "   macro avg       0.57      0.57      0.57        21\n",
      "weighted avg       0.57      0.57      0.57        21\n",
      "\n",
      "\n"
     ]
    }
   ],
   "source": [
    "import warnings\n",
    "warnings.filterwarnings(\"ignore\")\n",
    "\n",
    "for score in scores:\n",
    "    print(\"# Tuning hyper-parameters for %s\" % score)\n",
    "    print()\n",
    "\n",
    "    clf = GridSearchCV(\n",
    "        RandomForestClassifier(), param_grid, cv=10, scoring='%s_macro' % score\n",
    "    )\n",
    "    clf.fit(x_train, y_train)\n",
    "\n",
    "    print(\"Best parameters set found on development set:\")\n",
    "    print()\n",
    "    print(clf.best_params_)\n",
    "    print()\n",
    "    print(\"Grid scores on development set:\")\n",
    "    print()\n",
    "    \n",
    "    y_pred = clf.predict(x_test)\n",
    "    means = clf.cv_results_['mean_test_score']\n",
    "    stds = clf.cv_results_['std_test_score']\n",
    "    \n",
    "    #for mean, std, params in zip(means, stds, clf.cv_results_['params']):\n",
    "       # print(\"%0.3f (+/-%0.03f) for %r\"\n",
    "            #  % (mean, std * 2, params))\n",
    "    \n",
    "    print()\n",
    "    print(\"Detailed classification report:\")\n",
    "    print()\n",
    "    print(\"The model is trained on the full development set.\")\n",
    "    print(\"The scores are computed on the full evaluation set.\")\n",
    "    print()\n",
    "    print(classification_report(y_test, y_pred))\n",
    "    print()\n"
   ]
  },
  {
   "cell_type": "markdown",
   "metadata": {},
   "source": [
    "# Confusion Matrix"
   ]
  },
  {
   "cell_type": "code",
   "execution_count": 11,
   "metadata": {},
   "outputs": [
    {
     "name": "stdout",
     "output_type": "stream",
     "text": [
      "[[6 4]\n",
      " [5 6]]\n"
     ]
    },
    {
     "data": {
      "image/png": "[encoded data removed]",
      "text/plain": [
       "<Figure size 360x360 with 2 Axes>"
      ]
     },
     "metadata": {
      "needs_background": "light"
     },
     "output_type": "display_data"
    }
   ],
   "source": [
    "import scikitplot as skplt\n",
    "skplt.metrics.plot_confusion_matrix(y_test, y_pred, normalize=True, figsize = (5,5), text_fontsize = '10', title_fontsize = '16')\n",
    "print(confusion_matrix(y_test, y_pred))"
   ]
  },
  {
   "cell_type": "markdown",
   "metadata": {},
   "source": [
    "# ROC AUC Scores\n"
   ]
  },
  {
   "cell_type": "code",
   "execution_count": 12,
   "metadata": {},
   "outputs": [],
   "source": [
    "# Actual class predictions\n",
    "rf_predictions = clf.predict(x_test)\n",
    "# Probabilities for each class\n",
    "rf_probs = clf.predict_proba(x_test)[:, 1]"
   ]
  },
  {
   "cell_type": "code",
   "execution_count": 13,
   "metadata": {},
   "outputs": [
    {
     "data": {
      "image/png": "[encoded data removed]",
      "text/plain": [
       "<Figure size 600x600 with 1 Axes>"
      ]
     },
     "metadata": {
      "needs_background": "light"
     },
     "output_type": "display_data"
    },
    {
     "name": "stdout",
     "output_type": "stream",
     "text": [
      "ROC AUC:   0.6363636363636364\n"
     ]
    }
   ],
   "source": [
    "\n",
    "# generate a baseline prediction (majority class)\n",
    "b_probs = [0 for _ in range(len(y_test))]\n",
    "# calculate roc curves\n",
    "b_fpr, b_tpr, _ = roc_curve(y_test, b_probs, pos_label = 'LOW')\n",
    "fpr, tpr, thresh = roc_curve(y_test, rf_probs, pos_label = 'LOW')\n",
    "# plot the roc curve for the model\n",
    "plt.figure(figsize=(3,3), dpi = 200)\n",
    "plt.plot(b_fpr, b_tpr, linestyle='--', label='Baseline')\n",
    "plt.plot(fpr, tpr, marker='.', label='Random Forest')\n",
    "# axis labels\n",
    "plt.xlabel('False Positive Rate')\n",
    "plt.ylabel('True Positive Rate')\n",
    "# show the legend\n",
    "plt.legend()\n",
    "# show the plot\n",
    "plt.show()\n",
    "\n",
    "print('ROC AUC:  ', roc_auc_score(y_test, rf_probs, average = 'macro'))"
   ]
  },
  {
   "cell_type": "markdown",
   "metadata": {},
   "source": [
    "# Kappa Statistic\n"
   ]
  },
  {
   "cell_type": "code",
   "execution_count": 14,
   "metadata": {},
   "outputs": [
    {
     "name": "stdout",
     "output_type": "stream",
     "text": [
      "Kappa score:  0.14479638009049778\n"
     ]
    }
   ],
   "source": [
    "kappa = cohen_kappa_score(y_test, y_pred)\n",
    "print('Kappa score: ', kappa)"
   ]
  },
  {
   "cell_type": "code",
   "execution_count": null,
   "metadata": {},
   "outputs": [],
   "source": []
  }
 ],
 "metadata": {
  "kernelspec": {
   "display_name": "Python 3",
   "language": "python",
   "name": "python3"
  },
  "language_info": {
   "codemirror_mode": {
    "name": "ipython",
    "version": 3
   },
   "file_extension": ".py",
   "mimetype": "text/x-python",
   "name": "python",
   "nbconvert_exporter": "python",
   "pygments_lexer": "ipython3",
   "version": "3.8.5"
  }
 },
 "nbformat": 4,
 "nbformat_minor": 4
}
